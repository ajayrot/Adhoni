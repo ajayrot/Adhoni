{
 "cells": [
  {
   "cell_type": "code",
   "execution_count": 4,
   "id": "639396ab",
   "metadata": {},
   "outputs": [
    {
     "name": "stdout",
     "output_type": "stream",
     "text": [
      "[23, 65, 90, 19]\n"
     ]
    }
   ],
   "source": [
    "def swap(list, pos1, pos2):\n",
    "     \n",
    "    list[pos1], list[pos2] = list[pos2], list[pos1]\n",
    "    return list\n",
    " \n",
    "# Driver function\n",
    "List = [23, 65, 19, 90]\n",
    "pos1, pos2  = 2,3\n",
    " \n",
    "print(swap(List, pos1, pos2))"
   ]
  },
  {
   "cell_type": "markdown",
   "id": "78f266b1",
   "metadata": {},
   "source": [
    "# Contact Application:\n",
    "- Add Newcontacts\n"
   ]
  },
  {
   "cell_type": "code",
   "execution_count": 5,
   "id": "d5e9412f",
   "metadata": {},
   "outputs": [],
   "source": [
    "# Add New Contact"
   ]
  },
  {
   "cell_type": "code",
   "execution_count": 6,
   "id": "7b5f949e",
   "metadata": {},
   "outputs": [
    {
     "name": "stdout",
     "output_type": "stream",
     "text": [
      "{'1': '123', '2': '234', '3': '345'}\n"
     ]
    }
   ],
   "source": [
    "d = {'1':'123','2':'234','3':'345'}\n",
    "print(d)"
   ]
  },
  {
   "cell_type": "code",
   "execution_count": 8,
   "id": "741e57b8",
   "metadata": {},
   "outputs": [
    {
     "name": "stdout",
     "output_type": "stream",
     "text": [
      "True\n"
     ]
    }
   ],
   "source": [
    "print('1' in d)"
   ]
  },
  {
   "cell_type": "code",
   "execution_count": 9,
   "id": "8f2e6711",
   "metadata": {},
   "outputs": [
    {
     "name": "stdout",
     "output_type": "stream",
     "text": [
      "{} <class 'dict'>\n"
     ]
    }
   ],
   "source": [
    "# Add New Contact\n",
    "contacts ={}\n",
    "print(contacts,type(contacts))"
   ]
  },
  {
   "cell_type": "code",
   "execution_count": 10,
   "id": "f425cb96",
   "metadata": {},
   "outputs": [],
   "source": [
    "contacts={}\n",
    "def addcontacts(Name,Number):\n",
    "    if Name not in contacts:\n",
    "        contacts[Name]=Number\n",
    "        return \"Contacts is added\"\n",
    "    return \"Contacts not Added\""
   ]
  },
  {
   "cell_type": "code",
   "execution_count": 11,
   "id": "736b7000",
   "metadata": {},
   "outputs": [
    {
     "data": {
      "text/plain": [
       "'Contacts is added'"
      ]
     },
     "execution_count": 11,
     "metadata": {},
     "output_type": "execute_result"
    }
   ],
   "source": [
    "addcontacts(\"Ajay\",\"1234445\")"
   ]
  },
  {
   "cell_type": "code",
   "execution_count": 12,
   "id": "6a0a612d",
   "metadata": {},
   "outputs": [
    {
     "data": {
      "text/plain": [
       "{'Ajay': '1234445'}"
      ]
     },
     "execution_count": 12,
     "metadata": {},
     "output_type": "execute_result"
    }
   ],
   "source": [
    "contacts"
   ]
  },
  {
   "cell_type": "code",
   "execution_count": 13,
   "id": "7f3a3260",
   "metadata": {},
   "outputs": [
    {
     "data": {
      "text/plain": [
       "'Contacts not Added'"
      ]
     },
     "execution_count": 13,
     "metadata": {},
     "output_type": "execute_result"
    }
   ],
   "source": [
    "addcontacts(\"Ajay\",\"3466756756\")"
   ]
  },
  {
   "cell_type": "code",
   "execution_count": 14,
   "id": "6bf37696",
   "metadata": {},
   "outputs": [
    {
     "data": {
      "text/plain": [
       "'Contacts is added'"
      ]
     },
     "execution_count": 14,
     "metadata": {},
     "output_type": "execute_result"
    }
   ],
   "source": [
    "addcontacts(\"Vijay\",\"3466756756\")"
   ]
  },
  {
   "cell_type": "code",
   "execution_count": 15,
   "id": "b9a6f5a9",
   "metadata": {},
   "outputs": [
    {
     "data": {
      "text/plain": [
       "{'Ajay': '1234445', 'Vijay': '3466756756'}"
      ]
     },
     "execution_count": 15,
     "metadata": {},
     "output_type": "execute_result"
    }
   ],
   "source": [
    "contacts"
   ]
  },
  {
   "cell_type": "code",
   "execution_count": 16,
   "id": "c3b44944",
   "metadata": {},
   "outputs": [],
   "source": [
    "#Search Contacts\n",
    "def search_contact(name):\n",
    "    if name in contacts:\n",
    "        return \"Contact Exist\"\n",
    "    return \"Contact Not exist\""
   ]
  },
  {
   "cell_type": "code",
   "execution_count": 17,
   "id": "28320b5b",
   "metadata": {},
   "outputs": [
    {
     "data": {
      "text/plain": [
       "'Contact Exist'"
      ]
     },
     "execution_count": 17,
     "metadata": {},
     "output_type": "execute_result"
    }
   ],
   "source": [
    "search_contact(\"Ajay\")"
   ]
  },
  {
   "cell_type": "code",
   "execution_count": 19,
   "id": "192ec338",
   "metadata": {},
   "outputs": [],
   "source": [
    "#Delete Conatacts\n",
    "def delete_contact(name):\n",
    "    if name in contacts:\n",
    "        del contacts[name]\n",
    "        return 'Your contact is deleted'\n",
    "    return 'Your contact is not found'"
   ]
  },
  {
   "cell_type": "code",
   "execution_count": 20,
   "id": "c06a7d91",
   "metadata": {},
   "outputs": [
    {
     "data": {
      "text/plain": [
       "'Your contact is deleted'"
      ]
     },
     "execution_count": 20,
     "metadata": {},
     "output_type": "execute_result"
    }
   ],
   "source": [
    "delete_contact(\"Ajay\")"
   ]
  },
  {
   "cell_type": "code",
   "execution_count": 21,
   "id": "cc8d1e66",
   "metadata": {},
   "outputs": [
    {
     "data": {
      "text/plain": [
       "{'Vijay': '3466756756'}"
      ]
     },
     "execution_count": 21,
     "metadata": {},
     "output_type": "execute_result"
    }
   ],
   "source": [
    "contacts"
   ]
  },
  {
   "cell_type": "code",
   "execution_count": null,
   "id": "808318b4",
   "metadata": {},
   "outputs": [],
   "source": []
  }
 ],
 "metadata": {
  "kernelspec": {
   "display_name": "Python 3 (ipykernel)",
   "language": "python",
   "name": "python3"
  },
  "language_info": {
   "codemirror_mode": {
    "name": "ipython",
    "version": 3
   },
   "file_extension": ".py",
   "mimetype": "text/x-python",
   "name": "python",
   "nbconvert_exporter": "python",
   "pygments_lexer": "ipython3",
   "version": "3.9.13"
  }
 },
 "nbformat": 4,
 "nbformat_minor": 5
}
