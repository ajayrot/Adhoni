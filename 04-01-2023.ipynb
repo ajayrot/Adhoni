{
 "cells": [
  {
   "cell_type": "code",
   "execution_count": 13,
   "id": "fc574edc",
   "metadata": {},
   "outputs": [
    {
     "name": "stdout",
     "output_type": "stream",
     "text": [
      "[1, 2, 3, 4, 5]\n",
      "5\n",
      "True\n",
      "False\n",
      "5\n",
      "1\n",
      "15\n",
      "3\n"
     ]
    }
   ],
   "source": [
    "# BASIC Operations in list\n",
    "l = [1,2,3,4,5]\n",
    "print(l)\n",
    "#Length Of the list\n",
    "print(len(l))\n",
    "print(4 in l)\n",
    "print(9 in l)\n",
    "# Max\n",
    "print(max(l))\n",
    "#MIn\n",
    "print(min(l))\n",
    "#Sum\n",
    "print(sum(l))\n",
    "#Average\n",
    "print(sum(l)//len(l))\n"
   ]
  },
  {
   "cell_type": "markdown",
   "id": "827b3691",
   "metadata": {},
   "source": [
    "# Methods of list:\n",
    "- append() \n",
    "- insert()\n",
    "- count()\n",
    "- reverse() \n",
    "- sort() \n",
    "- pop()`\n",
    "- remove()\n"
   ]
  },
  {
   "cell_type": "code",
   "execution_count": 17,
   "id": "88721e68",
   "metadata": {},
   "outputs": [
    {
     "name": "stdout",
     "output_type": "stream",
     "text": [
      "[1, 2, 3, 4, 5, [6, 7, 8, 9]]\n"
     ]
    }
   ],
   "source": [
    "# append() \n",
    "l = [1,2,3,4,5]\n",
    "l1 = [6,7,8,9]\n",
    "l.append(l1)\n",
    "\n",
    "print(l)"
   ]
  },
  {
   "cell_type": "code",
   "execution_count": 18,
   "id": "48dd43ae",
   "metadata": {},
   "outputs": [
    {
     "name": "stdout",
     "output_type": "stream",
     "text": [
      "[1, 2, 3, 6, 4, 5]\n"
     ]
    }
   ],
   "source": [
    "# insert()\n",
    "l = [1,2,3,4,5]\n",
    "l.insert(3,6)\n",
    "print(l)"
   ]
  },
  {
   "cell_type": "code",
   "execution_count": 21,
   "id": "4cd489e7",
   "metadata": {},
   "outputs": [
    {
     "name": "stdout",
     "output_type": "stream",
     "text": [
      "1\n"
     ]
    }
   ],
   "source": [
    "# count()\n",
    "l = [1,2,3,4,5,1,6,7,1]\n",
    "print(l.count(2))"
   ]
  },
  {
   "cell_type": "code",
   "execution_count": 22,
   "id": "a8ec0db2",
   "metadata": {},
   "outputs": [
    {
     "name": "stdout",
     "output_type": "stream",
     "text": [
      "[5, 4, 3, 2, 1]\n"
     ]
    }
   ],
   "source": [
    "# reverse() \n",
    "l = [1,2,3,4,5]\n",
    "l.reverse()\n",
    "print(l)"
   ]
  },
  {
   "cell_type": "code",
   "execution_count": 23,
   "id": "3f56903b",
   "metadata": {},
   "outputs": [
    {
     "name": "stdout",
     "output_type": "stream",
     "text": [
      "[1, 2, 2, 3, 4, 4, 5, 6, 7]\n"
     ]
    }
   ],
   "source": [
    "# sort() \n",
    "l=[1,4,2,5,3,6,4,7,2]\n",
    "l.sort()\n",
    "print(l)"
   ]
  },
  {
   "cell_type": "code",
   "execution_count": 26,
   "id": "f2cc241d",
   "metadata": {},
   "outputs": [
    {
     "data": {
      "text/plain": [
       "[1, 2, 3, 5]"
      ]
     },
     "execution_count": 26,
     "metadata": {},
     "output_type": "execute_result"
    }
   ],
   "source": [
    "# pop()\n",
    "l = [1,2,3,4,5]\n",
    "l.pop(3)\n",
    "l\n"
   ]
  },
  {
   "cell_type": "code",
   "execution_count": 27,
   "id": "96cec72c",
   "metadata": {},
   "outputs": [
    {
     "data": {
      "text/plain": [
       "[1, 2, 3, 5]"
      ]
     },
     "execution_count": 27,
     "metadata": {},
     "output_type": "execute_result"
    }
   ],
   "source": [
    "# remove()\n",
    "l = [1,2,3,4,5]\n",
    "l.remove(4)\n",
    "l"
   ]
  },
  {
   "cell_type": "markdown",
   "id": "3e1564be",
   "metadata": {},
   "source": [
    "# Tuple:\n",
    "- In Tuple Items are separated by by comma(,) and enclosed with parenthesis ().\n",
    "- Tuple cannot be changed.\n",
    "# Difference between List and Tuple\n",
    "   - List are mutable/can be changed/modified.\n",
    "       - Used to access,modify,add ,delete.\n",
    "   - Tuple are immutable/Cannot be changed.\n",
    "       - used to access."
   ]
  },
  {
   "cell_type": "code",
   "execution_count": null,
   "id": "4342e9e3",
   "metadata": {},
   "outputs": [],
   "source": [
    "  "
   ]
  }
 ],
 "metadata": {
  "kernelspec": {
   "display_name": "Python 3 (ipykernel)",
   "language": "python",
   "name": "python3"
  },
  "language_info": {
   "codemirror_mode": {
    "name": "ipython",
    "version": 3
   },
   "file_extension": ".py",
   "mimetype": "text/x-python",
   "name": "python",
   "nbconvert_exporter": "python",
   "pygments_lexer": "ipython3",
   "version": "3.9.13"
  }
 },
 "nbformat": 4,
 "nbformat_minor": 5
}
