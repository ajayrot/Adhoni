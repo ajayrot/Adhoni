{
 "cells": [
  {
   "cell_type": "code",
   "execution_count": 2,
   "id": "de2fd35a",
   "metadata": {},
   "outputs": [
    {
     "data": {
      "text/plain": [
       "'Contact is added successfully'"
      ]
     },
     "execution_count": 2,
     "metadata": {},
     "output_type": "execute_result"
    }
   ],
   "source": [
    "# Add contcats\n",
    "contacts={}\n",
    "def add_contact(name,phone):\n",
    "    if name not in contacts:\n",
    "        contacts[name] = phone\n",
    "        return 'Contact is added successfully'\n",
    "    return 'Contact name is already exists'\n",
    "add_contact(\"Ajay\",\"4356789\")"
   ]
  },
  {
   "cell_type": "code",
   "execution_count": 6,
   "id": "dd605fbb",
   "metadata": {},
   "outputs": [
    {
     "data": {
      "text/plain": [
       "'Contact is added successfully'"
      ]
     },
     "execution_count": 6,
     "metadata": {},
     "output_type": "execute_result"
    }
   ],
   "source": [
    "add_contact(\"Vijay\",\"4654654\")"
   ]
  },
  {
   "cell_type": "code",
   "execution_count": 7,
   "id": "bd5b1ee1",
   "metadata": {},
   "outputs": [
    {
     "data": {
      "text/plain": [
       "{'Ajay': '4356789', 'Vijay': '4654654'}"
      ]
     },
     "execution_count": 7,
     "metadata": {},
     "output_type": "execute_result"
    }
   ],
   "source": [
    "contacts\n"
   ]
  },
  {
   "cell_type": "code",
   "execution_count": 8,
   "id": "d2e2955a",
   "metadata": {},
   "outputs": [],
   "source": [
    "# Search\n",
    "def search_contact(name):\n",
    "    if name in contacts:\n",
    "        return True\n",
    "    return False"
   ]
  },
  {
   "cell_type": "code",
   "execution_count": 9,
   "id": "4853c436",
   "metadata": {},
   "outputs": [
    {
     "name": "stdout",
     "output_type": "stream",
     "text": [
      "Contact is not exists\n"
     ]
    }
   ],
   "source": [
    "res =  search_contact('Naveen')\n",
    "if res == True:\n",
    "    print('Contact is present')\n",
    "else:\n",
    "    print('Contact is not exists')\n",
    "    "
   ]
  },
  {
   "cell_type": "code",
   "execution_count": 11,
   "id": "ed086fa3",
   "metadata": {},
   "outputs": [
    {
     "data": {
      "text/plain": [
       "'Your contact is deleted'"
      ]
     },
     "execution_count": 11,
     "metadata": {},
     "output_type": "execute_result"
    }
   ],
   "source": [
    "def delete_contact(name):\n",
    "    if name in contacts:\n",
    "        del contacts[name]\n",
    "        return 'Your contact is deleted'\n",
    "    return 'Your contact is not found'\n",
    "delete_contact(\"Vijay\")"
   ]
  },
  {
   "cell_type": "code",
   "execution_count": 13,
   "id": "9ae78582",
   "metadata": {},
   "outputs": [
    {
     "data": {
      "text/plain": [
       "{'Ajay': '4356789'}"
      ]
     },
     "execution_count": 13,
     "metadata": {},
     "output_type": "execute_result"
    }
   ],
   "source": [
    "contacts"
   ]
  },
  {
   "cell_type": "code",
   "execution_count": 16,
   "id": "f7d69ece",
   "metadata": {},
   "outputs": [],
   "source": [
    "my_contacts = {'Naveen':'9988113344','Ravi':'7766111331','Raju':'6667778881'}"
   ]
  },
  {
   "cell_type": "code",
   "execution_count": 17,
   "id": "0e7705d6",
   "metadata": {},
   "outputs": [],
   "source": [
    "def import_contacts(new_dict):\n",
    "    contacts.update(new_dict)\n",
    "    return"
   ]
  },
  {
   "cell_type": "code",
   "execution_count": 18,
   "id": "105bdd6c",
   "metadata": {},
   "outputs": [],
   "source": [
    "import_contacts(my_contacts)"
   ]
  },
  {
   "cell_type": "code",
   "execution_count": 19,
   "id": "95099511",
   "metadata": {},
   "outputs": [
    {
     "data": {
      "text/plain": [
       "{'Ajay': '4356789',\n",
       " 'Naveen': '9988113344',\n",
       " 'Ravi': '7766111331',\n",
       " 'Raju': '6667778881'}"
      ]
     },
     "execution_count": 19,
     "metadata": {},
     "output_type": "execute_result"
    }
   ],
   "source": [
    "contacts"
   ]
  },
  {
   "cell_type": "markdown",
   "id": "4a10095e",
   "metadata": {},
   "source": [
    "# Boolean_FUnctions:\n",
    "- islower()\n",
    "    - It's returns True if the input character is lower case character or else it returns False\n",
    "- isupper()\n",
    "    - It's returns True if the input character is upper case character or else it returns False\n",
    "- istitle()\n",
    "    - It's returns True if the input string is in title case\n",
    "- isalpha()\n",
    "    - True if the string is Alaphabets or else returns False\n",
    "- isnumeric()\n",
    "    - True / False\n",
    "- isspace()\n",
    "    - True / False"
   ]
  },
  {
   "cell_type": "code",
   "execution_count": 28,
   "id": "41558fa1",
   "metadata": {},
   "outputs": [
    {
     "name": "stdout",
     "output_type": "stream",
     "text": [
      "False\n",
      "False\n",
      "False\n",
      "False\n",
      "False\n",
      "True\n"
     ]
    }
   ],
   "source": [
    "s1 = \"    \"\n",
    "print(s1.islower())\n",
    "print(s1.isupper())\n",
    "print(s1.istitle())\n",
    "print(s1.isalpha())\n",
    "print(s1.isnumeric())\n",
    "print(s1.isspace())\n"
   ]
  },
  {
   "cell_type": "code",
   "execution_count": 10,
   "id": "5a86836c",
   "metadata": {},
   "outputs": [
    {
     "name": "stdout",
     "output_type": "stream",
     "text": [
      "Enter first string:PYTHON\n",
      "Enter second string:PYTHON\n",
      "The common letters are: H\n",
      "T\n",
      "Y\n",
      "O\n",
      "N\n",
      "P\n"
     ]
    }
   ],
   "source": [
    "s1=input(\"Enter first string:\")\n",
    "s2=input(\"Enter second string:\")\n",
    "a=list(set(s1)&set(s2))\n",
    "print(\"The common letters are:\",end=\" \")\n",
    "for i in a:\n",
    "    print(i)"
   ]
  },
  {
   "cell_type": "code",
   "execution_count": null,
   "id": "24b3186e",
   "metadata": {},
   "outputs": [],
   "source": []
  }
 ],
 "metadata": {
  "kernelspec": {
   "display_name": "Python 3 (ipykernel)",
   "language": "python",
   "name": "python3"
  },
  "language_info": {
   "codemirror_mode": {
    "name": "ipython",
    "version": 3
   },
   "file_extension": ".py",
   "mimetype": "text/x-python",
   "name": "python",
   "nbconvert_exporter": "python",
   "pygments_lexer": "ipython3",
   "version": "3.9.13"
  }
 },
 "nbformat": 4,
 "nbformat_minor": 5
}
