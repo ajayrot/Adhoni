{
 "cells": [
  {
   "cell_type": "markdown",
   "id": "8c5fc748",
   "metadata": {},
   "source": [
    "# Data Conversions:\n",
    "- integer -int()\n",
    "- string - str()\n",
    "- float - float()"
   ]
  },
  {
   "cell_type": "code",
   "execution_count": 13,
   "id": "2e25ab8a",
   "metadata": {},
   "outputs": [
    {
     "name": "stdout",
     "output_type": "stream",
     "text": [
      "2 <class 'int'>\n",
      "2.0 <class 'float'>\n",
      "2 <class 'str'>\n"
     ]
    }
   ],
   "source": [
    "i = 2\n",
    "print(i,type(i))\n",
    "f = float(i)\n",
    "print(f,type(f))\n",
    "s = str(i)\n",
    "print(s,type(s))"
   ]
  },
  {
   "cell_type": "code",
   "execution_count": 8,
   "id": "5b1a6b10",
   "metadata": {},
   "outputs": [
    {
     "name": "stdout",
     "output_type": "stream",
     "text": [
      "1.2 <class 'float'>\n",
      "1 <class 'int'>\n",
      "1.2 <class 'str'>\n"
     ]
    }
   ],
   "source": [
    "f = 1.2\n",
    "print(f,type(f))\n",
    "i = int(f)\n",
    "print(i,type(i))\n",
    "s = str(f)\n",
    "print(s,type(s))"
   ]
  },
  {
   "cell_type": "code",
   "execution_count": 12,
   "id": "43eff1d3",
   "metadata": {},
   "outputs": [
    {
     "name": "stdout",
     "output_type": "stream",
     "text": [
      "123456 <class 'str'>\n",
      "123456 <class 'int'>\n",
      "123456.0 <class 'float'>\n"
     ]
    }
   ],
   "source": [
    "s = \"123456\"\n",
    "print(s,type(s))\n",
    "i = int(s)\n",
    "print(i,type(i))\n",
    "f = float(s)\n",
    "print(f,type(f))"
   ]
  },
  {
   "cell_type": "markdown",
   "id": "ce3098fc",
   "metadata": {},
   "source": [
    "# Input() Function\n",
    "- Used to read the input value from the User "
   ]
  },
  {
   "cell_type": "code",
   "execution_count": 18,
   "id": "0b45f3f2",
   "metadata": {},
   "outputs": [
    {
     "name": "stdout",
     "output_type": "stream",
     "text": [
      "enter your name Ajay\n",
      "my name is : Ajay\n",
      "<class 'str'>\n"
     ]
    }
   ],
   "source": [
    "a = input(\"enter your name \")\n",
    "print(\"my name is :\",a)\n",
    "print(type(a))"
   ]
  },
  {
   "cell_type": "code",
   "execution_count": 19,
   "id": "744f8452",
   "metadata": {},
   "outputs": [
    {
     "name": "stdout",
     "output_type": "stream",
     "text": [
      "Enter a number:5\n",
      "5 <class 'int'>\n"
     ]
    }
   ],
   "source": [
    "n =int(input(\"Enter a number:\"))\n",
    "print(n,type(n))"
   ]
  },
  {
   "cell_type": "markdown",
   "id": "1d36a59d",
   "metadata": {},
   "source": [
    "# Operators\n",
    "- Arithmetic Operators\n",
    "- Assignment Operators\n",
    "- Comparision or Relational Operators\n",
    "- Logical operators\n",
    "\n"
   ]
  },
  {
   "cell_type": "markdown",
   "id": "8f6842d9",
   "metadata": {},
   "source": [
    "# Arithmetic Operatos\n",
    "+, - , , /, //, **,%"
   ]
  },
  {
   "cell_type": "code",
   "execution_count": 20,
   "id": "e9a76431",
   "metadata": {},
   "outputs": [
    {
     "name": "stdout",
     "output_type": "stream",
     "text": [
      "15\n",
      "5\n",
      "50\n",
      "2.0\n",
      "2\n",
      "100000\n",
      "0\n"
     ]
    }
   ],
   "source": [
    "a = 10\n",
    "b= 5\n",
    "print(a+b)\n",
    "print(a-b)\n",
    "print(a*b)\n",
    "print(a/b)\n",
    "print(a//b)\n",
    "print(a**b)\n",
    "print(a%b)\n",
    "\n"
   ]
  },
  {
   "cell_type": "markdown",
   "id": "1a0401e5",
   "metadata": {},
   "source": [
    "# Assignment Operators\n",
    "+=, -=, =, /=, %=, //=, *="
   ]
  },
  {
   "cell_type": "code",
   "execution_count": 31,
   "id": "56be7720",
   "metadata": {},
   "outputs": [
    {
     "name": "stdout",
     "output_type": "stream",
     "text": [
      "a =  10 b =  3\n",
      "a =  13 b =  3\n",
      "a =  10 b =  3\n",
      "a =  30 b =  3\n",
      "a =  10.0 b =  3\n",
      "a =  3.0 b =  3\n",
      "a =  27.0 b =  3\n"
     ]
    }
   ],
   "source": [
    "a = 10\n",
    "b = 3\n",
    "print('a = ',a,'b = ',b)\n",
    "a += b # a = a +b\n",
    "print('a = ',a,'b = ',b)\n",
    "a -= b # a = a-b`\n",
    "print('a = ',a,'b = ',b)\n",
    "a *= b\n",
    "print('a = ',a,'b = ',b)\n",
    "a /= b\n",
    "print('a = ',a,'b = ',b)\n",
    "a //= b\n",
    "print('a = ',a,'b = ',b)\n",
    "a **= b\n",
    "print('a = ',a,'b = ',b)"
   ]
  },
  {
   "cell_type": "markdown",
   "id": "b5fe73af",
   "metadata": {},
   "source": [
    "# Comparision or Relational Operators\n",
    "- < > <= >= == !=\n",
    "- It always returns the value as True or False"
   ]
  },
  {
   "cell_type": "code",
   "execution_count": 23,
   "id": "f044e16d",
   "metadata": {},
   "outputs": [
    {
     "name": "stdout",
     "output_type": "stream",
     "text": [
      "a < b False\n",
      "a > b True\n",
      "a <= b False\n",
      "a >= b True\n",
      "a == b False\n",
      "a != b True\n"
     ]
    }
   ],
   "source": [
    "a = 10\n",
    "b = 3\n",
    "print('a < b',a < b)\n",
    "print('a > b',a > b)\n",
    "print('a <= b',a <= b)\n",
    "print('a >= b',a >= b)\n",
    "print('a == b',a == b)\n",
    "print('a != b',a != b)"
   ]
  },
  {
   "cell_type": "markdown",
   "id": "1a4c93df",
   "metadata": {},
   "source": [
    "# Logical Operators\n",
    "- and\n",
    "    - Returns True if both Expressions/statements are true\n",
    "- or\n",
    "     - Returns True if one of the Expression/Statement is true\n",
    "- not\n",
    "     - Reverse the result, it means if a input is True and Output Will be False"
   ]
  },
  {
   "cell_type": "code",
   "execution_count": 24,
   "id": "016bac4b",
   "metadata": {},
   "outputs": [
    {
     "name": "stdout",
     "output_type": "stream",
     "text": [
      "True\n"
     ]
    }
   ],
   "source": [
    "x = 10\n",
    "y = 20\n",
    "res = x >= 10 and y >= 10\n",
    "print(res)"
   ]
  },
  {
   "cell_type": "code",
   "execution_count": 25,
   "id": "2e551023",
   "metadata": {},
   "outputs": [
    {
     "name": "stdout",
     "output_type": "stream",
     "text": [
      "False\n"
     ]
    }
   ],
   "source": [
    "x = 10\n",
    "y = 20\n",
    "res = x > 10 and y > 20\n",
    "print(res)"
   ]
  },
  {
   "cell_type": "code",
   "execution_count": 26,
   "id": "ff075e3f",
   "metadata": {},
   "outputs": [
    {
     "name": "stdout",
     "output_type": "stream",
     "text": [
      "False\n"
     ]
    }
   ],
   "source": [
    "x = 10\n",
    "y = 20\n",
    "res = x > 10 or y > 20\n",
    "print(res)"
   ]
  },
  {
   "cell_type": "code",
   "execution_count": 27,
   "id": "a51cdf3c",
   "metadata": {},
   "outputs": [
    {
     "name": "stdout",
     "output_type": "stream",
     "text": [
      "True\n"
     ]
    }
   ],
   "source": [
    "x = 10\n",
    "y = 20\n",
    "res = x > 10 or y > 10\n",
    "print(res)"
   ]
  },
  {
   "cell_type": "markdown",
   "id": "1cf68547",
   "metadata": {},
   "source": [
    "# Control Flow Statements\n",
    "- Conditional Statements\n",
    "      - if - else\n",
    "- Looping Statements\n",
    "      - while\n",
    "      - for"
   ]
  },
  {
   "cell_type": "markdown",
   "id": "3d847544",
   "metadata": {},
   "source": [
    "# Conditional Statements\n",
    "\n",
    "- If the Condition is evaulated to True then the block of if statements will be executed otherwise then else block statements will be executed"
   ]
  },
  {
   "cell_type": "code",
   "execution_count": null,
   "id": "e2c1e44f",
   "metadata": {},
   "outputs": [],
   "source": [
    "# syntex:\n",
    "if Boolean_Condition :\n",
    "        Statements\n",
    "else:\n",
    "        Statements"
   ]
  },
  {
   "cell_type": "code",
   "execution_count": 33,
   "id": "e8c58c88",
   "metadata": {},
   "outputs": [
    {
     "name": "stdout",
     "output_type": "stream",
     "text": [
      "Enter a number8\n",
      "Even Number\n"
     ]
    }
   ],
   "source": [
    "# Write a program to check even or odd\n",
    "n = int(input(\"Enter a number\"))\n",
    "if n %2==0:\n",
    "    print(\"Even Number\")\n",
    "else:\n",
    "    print(\"Odd NUmber\")"
   ]
  },
  {
   "cell_type": "code",
   "execution_count": 34,
   "id": "096bb1ee",
   "metadata": {},
   "outputs": [
    {
     "name": "stdout",
     "output_type": "stream",
     "text": [
      "Enter a number15\n",
      "multiples  of both 3 and 5\n"
     ]
    }
   ],
   "source": [
    "# Write a program to check given is multiples  of both 3 and 5\n",
    "n = int(input(\"Enter a number\"))\n",
    "if n %3==0 and n%5==0:\n",
    "    print(\"multiples  of both 3 and 5\")\n",
    "else:\n",
    "    print(\"NO\")"
   ]
  },
  {
   "cell_type": "code",
   "execution_count": 41,
   "id": "6c6cbfed",
   "metadata": {},
   "outputs": [
    {
     "name": "stdout",
     "output_type": "stream",
     "text": [
      "Enter a number0\n",
      "Zero\n"
     ]
    }
   ],
   "source": [
    "# Write a program to check given number positive ,negative or zero\n",
    "n = int(input(\"Enter a number\"))\n",
    "if n>0:\n",
    "    print(\"Positive number\")\n",
    "elif n<0:\n",
    "    print(\"Negative Number\")\n",
    "else:\n",
    "    print(\"Zero\")"
   ]
  },
  {
   "cell_type": "code",
   "execution_count": null,
   "id": "36e8aee8",
   "metadata": {},
   "outputs": [],
   "source": [
    "# Find the large number from the given 3 numbers\n"
   ]
  }
 ],
 "metadata": {
  "kernelspec": {
   "display_name": "Python 3 (ipykernel)",
   "language": "python",
   "name": "python3"
  },
  "language_info": {
   "codemirror_mode": {
    "name": "ipython",
    "version": 3
   },
   "file_extension": ".py",
   "mimetype": "text/x-python",
   "name": "python",
   "nbconvert_exporter": "python",
   "pygments_lexer": "ipython3",
   "version": "3.9.13"
  }
 },
 "nbformat": 4,
 "nbformat_minor": 5
}
