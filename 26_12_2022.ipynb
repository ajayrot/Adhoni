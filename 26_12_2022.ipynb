{
  "nbformat": 4,
  "nbformat_minor": 0,
  "metadata": {
    "colab": {
      "provenance": []
    },
    "kernelspec": {
      "name": "python3",
      "display_name": "Python 3"
    },
    "language_info": {
      "name": "python"
    }
  },
  "cells": [
    {
      "cell_type": "markdown",
      "source": [
        "# Markdown\n",
        "## Markdown\n",
        "### Markdwown\n",
        "\n",
        "# *Python*\n",
        "# **Python**\n",
        "# ***Python***"
      ],
      "metadata": {
        "id": "mTEaXwPigppQ"
      }
    },
    {
      "cell_type": "markdown",
      "source": [
        "### Lists (Un ordered List and Ordered List)\n",
        "#### Un-Ordered List\n",
        "- List 1\n",
        "- List 2\n",
        "- List 3\n",
        "- List 4\n",
        "- List 5\n",
        "----------------------------------------\n",
        "### Ordered List\n",
        "1. List 1\n",
        "2. List 2\n",
        "3. List 3\n",
        "4. List 4 \n",
        "5. List 4"
      ],
      "metadata": {
        "id": "s1F5T9hyiIuY"
      }
    },
    {
      "cell_type": "markdown",
      "source": [
        "# Python is a popular programming language. It was created by Guido van Rossum, and released in 1991.\n",
        "\n",
        "# It is used for:\n",
        "\n",
        "- web development (server-side),\n",
        "- software development,\n",
        "- mathematics,\n",
        "- system scripting."
      ],
      "metadata": {
        "id": "fdWGKb9IlRWa"
      }
    },
    {
      "cell_type": "markdown",
      "source": [
        "# Print Function:\n",
        "- It is used to print a statement"
      ],
      "metadata": {
        "id": "zad2yBg2mos_"
      }
    },
    {
      "cell_type": "code",
      "source": [
        "# Print function\n",
        "print(\"Hello World\")"
      ],
      "metadata": {
        "colab": {
          "base_uri": "https://localhost:8080/"
        },
        "id": "QLs1p5-XmDRf",
        "outputId": "929484ce-dd41-4d44-afee-02d7d3101e18"
      },
      "execution_count": null,
      "outputs": [
        {
          "output_type": "stream",
          "name": "stdout",
          "text": [
            "Hello World\n"
          ]
        }
      ]
    },
    {
      "cell_type": "code",
      "source": [
        "print('Hello World')"
      ],
      "metadata": {
        "colab": {
          "base_uri": "https://localhost:8080/"
        },
        "id": "LVF51j2MhUNL",
        "outputId": "7c4b3a45-4dc2-4d8e-ad71-3d6eab520599"
      },
      "execution_count": null,
      "outputs": [
        {
          "output_type": "stream",
          "name": "stdout",
          "text": [
            "Hello World\n"
          ]
        }
      ]
    },
    {
      "cell_type": "code",
      "source": [
        "print(\"Hello, How are you\")"
      ],
      "metadata": {
        "colab": {
          "base_uri": "https://localhost:8080/"
        },
        "id": "tr7D3XphmcmD",
        "outputId": "d724aa6c-446b-4c25-f2a0-61fba047ee99"
      },
      "execution_count": null,
      "outputs": [
        {
          "output_type": "stream",
          "name": "stdout",
          "text": [
            "Hello, How are you\n"
          ]
        }
      ]
    },
    {
      "cell_type": "code",
      "source": [
        "print(\"Hello\")\n",
        "print(\"How are you\")"
      ],
      "metadata": {
        "colab": {
          "base_uri": "https://localhost:8080/"
        },
        "id": "ANfOiHNhob45",
        "outputId": "65680edc-4247-41fd-fc81-a49dcf9b631d"
      },
      "execution_count": null,
      "outputs": [
        {
          "output_type": "stream",
          "name": "stdout",
          "text": [
            "Hello\n",
            "How are you\n"
          ]
        }
      ]
    },
    {
      "cell_type": "code",
      "source": [
        "print(\"Hello\",end=\" \")\n",
        "print(\"How are you\")"
      ],
      "metadata": {
        "colab": {
          "base_uri": "https://localhost:8080/"
        },
        "id": "yYz9xMrkoLaI",
        "outputId": "775b5953-fede-41f8-89de-3f219531d0a5"
      },
      "execution_count": null,
      "outputs": [
        {
          "output_type": "stream",
          "name": "stdout",
          "text": [
            "Hello How are you\n"
          ]
        }
      ]
    },
    {
      "cell_type": "markdown",
      "source": [
        "# Variables\n",
        "- Variables are containers for storing data values.\n",
        "# Creating Variables\n",
        "- Python has no command for declaring a variable.\n",
        "- A variable is created the moment you first assign a value to it.\n",
        "# Variable Names\n",
        "- A variable can have a short name (like x and y) or a more descriptive name (age, carname, total_volume). Rules for Python variables:\n",
        "- A variable name must start with a letter or the underscore character\n",
        "- A variable name cannot start with a number\n",
        "- A variable name can only contain alpha-numeric characters and underscores (A-z, 0-9, and _ )\n",
        "- Variable names are case-sensitive (age, Age and AGE are three different variables)"
      ],
      "metadata": {
        "id": "RGyKEsXIpFv6"
      }
    },
    {
      "cell_type": "code",
      "source": [
        "a = 2\n",
        "print(a)\n",
        "print(type(a))"
      ],
      "metadata": {
        "colab": {
          "base_uri": "https://localhost:8080/"
        },
        "id": "HSG8ud5UoQtw",
        "outputId": "24be2931-4caf-4ada-f399-db4505051d6a"
      },
      "execution_count": null,
      "outputs": [
        {
          "output_type": "stream",
          "name": "stdout",
          "text": [
            "2\n",
            "<class 'int'>\n"
          ]
        }
      ]
    },
    {
      "cell_type": "code",
      "source": [
        "b = \"Python\"\n",
        "print(b,type(b))"
      ],
      "metadata": {
        "colab": {
          "base_uri": "https://localhost:8080/"
        },
        "id": "SMhfWMzMrfbO",
        "outputId": "bf9e7880-03a6-4a37-9bdb-4502c525e6a5"
      },
      "execution_count": null,
      "outputs": [
        {
          "output_type": "stream",
          "name": "stdout",
          "text": [
            "Python <class 'str'>\n"
          ]
        }
      ]
    },
    {
      "cell_type": "code",
      "source": [
        "c = 1.2\n",
        "print(c,type(c))"
      ],
      "metadata": {
        "colab": {
          "base_uri": "https://localhost:8080/"
        },
        "id": "DMf8rO87rwWg",
        "outputId": "a7736a7f-5d2f-45c6-bef8-4600b2849d4f"
      },
      "execution_count": null,
      "outputs": [
        {
          "output_type": "stream",
          "name": "stdout",
          "text": [
            "1.2 <class 'float'>\n"
          ]
        }
      ]
    },
    {
      "cell_type": "code",
      "source": [],
      "metadata": {
        "id": "EY7FP_per9T0"
      },
      "execution_count": null,
      "outputs": []
    }
  ]
}