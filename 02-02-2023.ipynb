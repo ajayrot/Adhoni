{
 "cells": [
  {
   "cell_type": "markdown",
   "id": "43bc578a",
   "metadata": {},
   "source": [
    "# Functional programming\n",
    "- Gruop of statements which can perform a specific task\n",
    "- Can be used for code reuseability\n",
    "- Functional Programming makes the program can be divided into multiple sub blocks\n",
    "- When the program is divided into multiple sub blocks reaability is easy\n",
    "- In python function can be defined with **def** keyword"
   ]
  },
  {
   "cell_type": "code",
   "execution_count": null,
   "id": "79314ada",
   "metadata": {},
   "outputs": [],
   "source": [
    "#syntax:\n",
    "def <functionname>(<parameters):\n",
    "    Statements\n",
    "    return"
   ]
  },
  {
   "cell_type": "code",
   "execution_count": 1,
   "id": "880a4c10",
   "metadata": {},
   "outputs": [
    {
     "name": "stdout",
     "output_type": "stream",
     "text": [
      "Enter a x number:12\n",
      "Enter a y number: 13\n"
     ]
    },
    {
     "data": {
      "text/plain": [
       "25"
      ]
     },
     "execution_count": 1,
     "metadata": {},
     "output_type": "execute_result"
    }
   ],
   "source": [
    "#Example add\n",
    "def add():\n",
    "    x = int(input(\"Enter a x number:\"))\n",
    "    y = int(input(\"Enter a y number: \"))\n",
    "    return x+y\n",
    "add()"
   ]
  },
  {
   "cell_type": "code",
   "execution_count": 2,
   "id": "40c49c16",
   "metadata": {},
   "outputs": [
    {
     "name": "stdout",
     "output_type": "stream",
     "text": [
      "Enter a x number:14\n",
      "Enter a y number: 13\n"
     ]
    },
    {
     "data": {
      "text/plain": [
       "27"
      ]
     },
     "execution_count": 2,
     "metadata": {},
     "output_type": "execute_result"
    }
   ],
   "source": [
    "add()"
   ]
  },
  {
   "cell_type": "code",
   "execution_count": 3,
   "id": "a51c140b",
   "metadata": {},
   "outputs": [
    {
     "name": "stdout",
     "output_type": "stream",
     "text": [
      "Enter a x number:78\n",
      "Enter a y number: 98\n"
     ]
    },
    {
     "data": {
      "text/plain": [
       "176"
      ]
     },
     "execution_count": 3,
     "metadata": {},
     "output_type": "execute_result"
    }
   ],
   "source": [
    "add()"
   ]
  },
  {
   "cell_type": "code",
   "execution_count": 5,
   "id": "8e5cc88c",
   "metadata": {},
   "outputs": [
    {
     "data": {
      "text/plain": [
       "6"
      ]
     },
     "execution_count": 5,
     "metadata": {},
     "output_type": "execute_result"
    }
   ],
   "source": [
    "def add1(x,y,z):\n",
    "    return x+y+z\n",
    "add1(1,2,3)"
   ]
  },
  {
   "cell_type": "code",
   "execution_count": 6,
   "id": "f1555abc",
   "metadata": {},
   "outputs": [
    {
     "name": "stdout",
     "output_type": "stream",
     "text": [
      "Enter a x number:8\n",
      "Enter a y number: 4\n",
      "12\n",
      "4\n",
      "2.0\n",
      "32\n"
     ]
    }
   ],
   "source": [
    "def ajay():\n",
    "    x = int(input(\"Enter a x number:\"))\n",
    "    y = int(input(\"Enter a y number: \"))\n",
    "    print(x+y)\n",
    "    print(x-y)\n",
    "    print(x/y)\n",
    "    print(x*y)\n",
    "ajay()\n",
    "\n",
    "    "
   ]
  },
  {
   "cell_type": "code",
   "execution_count": 10,
   "id": "265ee73f",
   "metadata": {},
   "outputs": [
    {
     "data": {
      "text/plain": [
       "(9, 3, 18, 2.0)"
      ]
     },
     "execution_count": 10,
     "metadata": {},
     "output_type": "execute_result"
    }
   ],
   "source": [
    "def ajay1(x,y):\n",
    "    return x+y,x-y,x*y,x/y\n",
    "   \n",
    "ajay1(6,3)"
   ]
  },
  {
   "cell_type": "code",
   "execution_count": 11,
   "id": "f3f60cc0",
   "metadata": {},
   "outputs": [
    {
     "data": {
      "text/plain": [
       "(13, 5, 36, 2.25)"
      ]
     },
     "execution_count": 11,
     "metadata": {},
     "output_type": "execute_result"
    }
   ],
   "source": [
    "ajay1(9,4)"
   ]
  },
  {
   "cell_type": "code",
   "execution_count": 12,
   "id": "ada1aeef",
   "metadata": {},
   "outputs": [
    {
     "data": {
      "text/plain": [
       "8"
      ]
     },
     "execution_count": 12,
     "metadata": {},
     "output_type": "execute_result"
    }
   ],
   "source": [
    "# find large number from given 2 inputs\n",
    "def large(x,y):\n",
    "    if x>y:\n",
    "        return x\n",
    "    else:\n",
    "        return y\n",
    "large(5,8)"
   ]
  },
  {
   "cell_type": "code",
   "execution_count": 13,
   "id": "be729291",
   "metadata": {},
   "outputs": [
    {
     "data": {
      "text/plain": [
       "32"
      ]
     },
     "execution_count": 13,
     "metadata": {},
     "output_type": "execute_result"
    }
   ],
   "source": [
    "large(12,32)"
   ]
  },
  {
   "cell_type": "code",
   "execution_count": 20,
   "id": "371fda4b",
   "metadata": {},
   "outputs": [
    {
     "data": {
      "text/plain": [
       "6"
      ]
     },
     "execution_count": 20,
     "metadata": {},
     "output_type": "execute_result"
    }
   ],
   "source": [
    "# find  Sum of all numbers\n",
    "def sum(num):\n",
    "    s = 0\n",
    "    for i in num:\n",
    "        s = s+i\n",
    "    return s\n",
    "sum((1,2,3))\n",
    "        "
   ]
  },
  {
   "cell_type": "code",
   "execution_count": 21,
   "id": "244f0522",
   "metadata": {},
   "outputs": [
    {
     "data": {
      "text/plain": [
       "12"
      ]
     },
     "execution_count": 21,
     "metadata": {},
     "output_type": "execute_result"
    }
   ],
   "source": [
    "# FInd sum of even numbers\n",
    "def even(x):\n",
    "    sum = 0\n",
    "    while x != 0:\n",
    "        a = x %10\n",
    "        if a %2 ==0:\n",
    "            sum = sum+a\n",
    "        x = x//10\n",
    "    return sum\n",
    "even(123456)\n",
    "    "
   ]
  },
  {
   "cell_type": "code",
   "execution_count": 1,
   "id": "014806bd",
   "metadata": {},
   "outputs": [
    {
     "data": {
      "text/plain": [
       "6"
      ]
     },
     "execution_count": 1,
     "metadata": {},
     "output_type": "execute_result"
    }
   ],
   "source": [
    "# Find large number from given number \n",
    "def lar(x):\n",
    "    large = 0\n",
    "    while x!=0:\n",
    "        a = x%10\n",
    "        if large <a:\n",
    "            large = a\n",
    "        x = x//10\n",
    "    return large\n",
    "lar(123456)\n",
    "    \n"
   ]
  },
  {
   "cell_type": "code",
   "execution_count": 2,
   "id": "ade43ac4",
   "metadata": {},
   "outputs": [
    {
     "data": {
      "text/plain": [
       "9"
      ]
     },
     "execution_count": 2,
     "metadata": {},
     "output_type": "execute_result"
    }
   ],
   "source": [
    "lar(1651238238991)"
   ]
  },
  {
   "cell_type": "code",
   "execution_count": null,
   "id": "a796c3f5",
   "metadata": {},
   "outputs": [],
   "source": []
  }
 ],
 "metadata": {
  "kernelspec": {
   "display_name": "Python 3 (ipykernel)",
   "language": "python",
   "name": "python3"
  },
  "language_info": {
   "codemirror_mode": {
    "name": "ipython",
    "version": 3
   },
   "file_extension": ".py",
   "mimetype": "text/x-python",
   "name": "python",
   "nbconvert_exporter": "python",
   "pygments_lexer": "ipython3",
   "version": "3.9.13"
  }
 },
 "nbformat": 4,
 "nbformat_minor": 5
}
