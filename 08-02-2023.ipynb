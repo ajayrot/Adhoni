{
 "cells": [
  {
   "cell_type": "markdown",
   "id": "5586f804",
   "metadata": {},
   "source": [
    "## String Methods and String Examples\n",
    "### String Methods\n",
    "- Split()\n",
    "    - Split() will divide the given string into list format default with space character\n",
    "    - Split() also divide the given string into sub parts based on specific character/word\n",
    "- join()\n",
    "    - join() used to join elements of the sequence separated by a string \n",
    "        - string_name.join(iterable)\n",
    "- replace()\n",
    "    - replace wil be replaces the all occurances of substring are replaced with another substring\n",
    "        - string_name.replace(oldstring,newstring)"
   ]
  },
  {
   "cell_type": "code",
   "execution_count": 1,
   "id": "a2552b4e",
   "metadata": {},
   "outputs": [
    {
     "name": "stdout",
     "output_type": "stream",
     "text": [
      "['Python', 'is', 'simple', 'Programming', 'Language']\n"
     ]
    }
   ],
   "source": [
    "s  = \"Python is simple Programming Language\"\n",
    "a = s.split()\n",
    "print(a)"
   ]
  },
  {
   "cell_type": "code",
   "execution_count": 2,
   "id": "44640718",
   "metadata": {},
   "outputs": [
    {
     "name": "stdout",
     "output_type": "stream",
     "text": [
      "['Python i', ' ', 'imple Programming Language']\n"
     ]
    }
   ],
   "source": [
    "a1= s.split('s')\n",
    "print(a1)"
   ]
  },
  {
   "cell_type": "code",
   "execution_count": 7,
   "id": "7e32be3b",
   "metadata": {},
   "outputs": [
    {
     "name": "stdout",
     "output_type": "stream",
     "text": [
      "['', 'ython is simple ', 'rogramming Language']\n"
     ]
    }
   ],
   "source": [
    "a2= s.split(\"P\")\n",
    "print(a2)"
   ]
  },
  {
   "cell_type": "code",
   "execution_count": 8,
   "id": "8d3c9739",
   "metadata": {},
   "outputs": [
    {
     "name": "stdout",
     "output_type": "stream",
     "text": [
      "P y t h o n   i s   s i m p l e   P r o g r a m m i n g   L a n g u a g e\n"
     ]
    }
   ],
   "source": [
    "s  = \"Python is simple Programming Language\"\n",
    "a = ' '.join(s)\n",
    "print(a)"
   ]
  },
  {
   "cell_type": "code",
   "execution_count": 9,
   "id": "f70e8df7",
   "metadata": {},
   "outputs": [
    {
     "name": "stdout",
     "output_type": "stream",
     "text": [
      "P@y@t@h@o@n@ @i@s@ @s@i@m@p@l@e@ @P@r@o@g@r@a@m@m@i@n@g@ @L@a@n@g@u@a@g@e\n"
     ]
    }
   ],
   "source": [
    "a1='@'.join(s)\n",
    "print(a1)"
   ]
  },
  {
   "cell_type": "code",
   "execution_count": 10,
   "id": "93f80638",
   "metadata": {},
   "outputs": [
    {
     "name": "stdout",
     "output_type": "stream",
     "text": [
      "Python is easy Programming Language\n"
     ]
    }
   ],
   "source": [
    "s  = \"Python is simple Programming Language\"\n",
    "a = s.replace('simple','easy')\n",
    "print(a)"
   ]
  },
  {
   "cell_type": "markdown",
   "id": "9fddf96e",
   "metadata": {},
   "source": [
    "### File Handling in Python\n",
    "- File I/O\n",
    "    - Open the File\n",
    "    - Perform the Operations on the file(Read/Write)\n",
    "    - Close the File\n",
    "- Different kind of file examples\n",
    "### Open the File \n",
    "- Python has in-built function called **open()**\n",
    "- open() usually takes 2 parameters\n",
    "    - The first parameter is file name\n",
    "    - second parameter will be mode of the file\n",
    "        - Different Modes\n",
    "            - r - read the file (default Mode)\n",
    "            - w - write the file\n",
    "                - If the file is not exists then it creates you the file and if the file already present then data will be over written\n",
    "            - a - append to the file"
   ]
  },
  {
   "cell_type": "code",
   "execution_count": 16,
   "id": "dde4d5f2",
   "metadata": {},
   "outputs": [],
   "source": [
    "def create_file(filename):\n",
    "    f = open(filename,'w')\n",
    "    f.write(\"Hello,How are you\")\n",
    "create_file(\"file1.txt\")"
   ]
  },
  {
   "cell_type": "code",
   "execution_count": 17,
   "id": "2ad3a4d8",
   "metadata": {},
   "outputs": [
    {
     "data": {
      "text/plain": [
       "'C:\\\\Users\\\\91939\\\\Adhoni'"
      ]
     },
     "execution_count": 17,
     "metadata": {},
     "output_type": "execute_result"
    }
   ],
   "source": [
    "pwd #PRESENT WORKING DIRECTORY\n"
   ]
  },
  {
   "cell_type": "code",
   "execution_count": 18,
   "id": "4fcb414c",
   "metadata": {},
   "outputs": [],
   "source": [
    "#create a file\n",
    "def create_file1(filename):\n",
    "    with open(filename,'w') as f:\n",
    "        f.write(\"Hello \\n\")\n",
    "        f.close()\n",
    "create_file1(\"File2.txt\")"
   ]
  },
  {
   "cell_type": "code",
   "execution_count": 23,
   "id": "b85a4d4a",
   "metadata": {},
   "outputs": [],
   "source": [
    "#append data to exiting file data\n",
    "def append_file(filename):\n",
    "    with open(filename,'a') as f:\n",
    "        for i in range(10):\n",
    "            f.write(\"Hello \")\n",
    "append_file(\"File2.txt\")"
   ]
  },
  {
   "cell_type": "code",
   "execution_count": 25,
   "id": "bfd71c64",
   "metadata": {},
   "outputs": [
    {
     "data": {
      "text/plain": [
       "'Hello,How are youHello \\nHello \\nHello \\nHello \\nHello \\nHello \\nHello \\nHello \\nHello \\nHello \\nHello \\nHello \\n'"
      ]
     },
     "execution_count": 25,
     "metadata": {},
     "output_type": "execute_result"
    }
   ],
   "source": [
    "#read a file data\n",
    "def read(filename,mode):\n",
    "    with open(filename,mode) as f:\n",
    "        if f.mode=='r':\n",
    "            x=f.read()\n",
    "        return x\n",
    "read('file1.txt','r')"
   ]
  },
  {
   "cell_type": "code",
   "execution_count": 26,
   "id": "917bc1fd",
   "metadata": {},
   "outputs": [
    {
     "data": {
      "text/plain": [
       "'Hello \\nHello Hello Hello Hello Hello Hello Hello Hello Hello Hello '"
      ]
     },
     "execution_count": 26,
     "metadata": {},
     "output_type": "execute_result"
    }
   ],
   "source": [
    "read('File2.txt','r')"
   ]
  },
  {
   "cell_type": "code",
   "execution_count": 27,
   "id": "b1681d3e",
   "metadata": {},
   "outputs": [
    {
     "data": {
      "text/plain": [
       "14"
      ]
     },
     "execution_count": 27,
     "metadata": {},
     "output_type": "execute_result"
    }
   ],
   "source": [
    "# Find count of words\n",
    "def count_word(filename,mode):\n",
    "    f =open(filename,mode)\n",
    "    a = f.read()\n",
    "    x = a.split()\n",
    "    return len(x)\n",
    "count_word('file1.txt','r')"
   ]
  },
  {
   "cell_type": "code",
   "execution_count": 28,
   "id": "09a4784f",
   "metadata": {},
   "outputs": [
    {
     "data": {
      "text/plain": [
       "11"
      ]
     },
     "execution_count": 28,
     "metadata": {},
     "output_type": "execute_result"
    }
   ],
   "source": [
    "count_word('File2.txt','r')"
   ]
  },
  {
   "cell_type": "markdown",
   "id": "309fea9f",
   "metadata": {},
   "source": [
    "### Regular Expression\n",
    "- Used to match the specific pattern\n",
    "- Let's you want to match the pattern with Mobile Number, EmailID, Student ID and etc.\n",
    "- To start with any regular expression, the first character will be cap symbol\n",
    "- To end with any regular expression, the last character should be Dollar symbol\n",
    "- To Match a single digits will use [0-9]\n",
    "- If there is a repetation in the input, then we can use curly braces and repeat the number"
   ]
  },
  {
   "cell_type": "markdown",
   "id": "48dad5d4",
   "metadata": {},
   "source": [
    "# Regular Expression for characters\n",
    "[a-z] --> Any lower case characters\n",
    "\n",
    "[A-Z] --> Any upper case characters\n",
    "\n",
    "^[a-z]{5}$ -- > It accept 5 lower case characters\n",
    "\n",
    "^[a-zA-Z]{8}$ -- > Accept 8 charcters can be anything lower and upper\n",
    "\n",
    "^[a-zA-Z0-9]{8}$ -- > Accept 8 charaters can be anything lower,upper and digit"
   ]
  },
  {
   "cell_type": "code",
   "execution_count": 3,
   "id": "8a7d27b0",
   "metadata": {},
   "outputs": [],
   "source": [
    "import re\n",
    "def two_digit(n):\n",
    "    pattern ='^[0-9]{2}$'\n",
    "    n=str(n)\n",
    "    if re.match(pattern,n):\n",
    "        return True\n",
    "    return False"
   ]
  },
  {
   "cell_type": "code",
   "execution_count": 4,
   "id": "0bb3ff39",
   "metadata": {},
   "outputs": [
    {
     "data": {
      "text/plain": [
       "True"
      ]
     },
     "execution_count": 4,
     "metadata": {},
     "output_type": "execute_result"
    }
   ],
   "source": [
    "two_digit(12)"
   ]
  },
  {
   "cell_type": "code",
   "execution_count": 5,
   "id": "597b0efb",
   "metadata": {},
   "outputs": [
    {
     "data": {
      "text/plain": [
       "False"
      ]
     },
     "execution_count": 5,
     "metadata": {},
     "output_type": "execute_result"
    }
   ],
   "source": [
    "two_digit(123)"
   ]
  },
  {
   "cell_type": "code",
   "execution_count": 7,
   "id": "4c31cbae",
   "metadata": {},
   "outputs": [],
   "source": [
    "# Validate username\n",
    "def username(n):\n",
    "    pattern ='^[a-zA-Z0-9]{5,15}$'\n",
    "    if re.match(pattern,n):\n",
    "        return True\n",
    "    return False"
   ]
  },
  {
   "cell_type": "code",
   "execution_count": 8,
   "id": "d4ad3db6",
   "metadata": {},
   "outputs": [
    {
     "data": {
      "text/plain": [
       "True"
      ]
     },
     "execution_count": 8,
     "metadata": {},
     "output_type": "execute_result"
    }
   ],
   "source": [
    "username('sfhse7eyfrhi')"
   ]
  },
  {
   "cell_type": "markdown",
   "id": "9e733a89",
   "metadata": {},
   "source": [
    "# Validate Indian Mobile Number\n",
    "- 9865545415   --->^[6-9][0-9]{9}$\n",
    "\n",
    "- 09894655466  --->^[0][6-9][0-9]{9}$\n",
    "\n",
    "- +919555558545--->^[+][9][1][6-9][0-9]{9}$"
   ]
  },
  {
   "cell_type": "code",
   "execution_count": null,
   "id": "b9309234",
   "metadata": {},
   "outputs": [],
   "source": []
  }
 ],
 "metadata": {
  "kernelspec": {
   "display_name": "Python 3 (ipykernel)",
   "language": "python",
   "name": "python3"
  },
  "language_info": {
   "codemirror_mode": {
    "name": "ipython",
    "version": 3
   },
   "file_extension": ".py",
   "mimetype": "text/x-python",
   "name": "python",
   "nbconvert_exporter": "python",
   "pygments_lexer": "ipython3",
   "version": "3.9.13"
  }
 },
 "nbformat": 4,
 "nbformat_minor": 5
}
