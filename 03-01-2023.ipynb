{
 "cells": [
  {
   "cell_type": "markdown",
   "id": "82fa240f",
   "metadata": {},
   "source": [
    "# For loop "
   ]
  },
  {
   "cell_type": "code",
   "execution_count": null,
   "id": "a7ed0be9",
   "metadata": {},
   "outputs": [],
   "source": [
    "#syntax:\n",
    "for <local var> in <objectname>:\n",
    "    Statements"
   ]
  },
  {
   "cell_type": "code",
   "execution_count": 1,
   "id": "62ebf91e",
   "metadata": {},
   "outputs": [
    {
     "name": "stdout",
     "output_type": "stream",
     "text": [
      "0 1 2 3 4 "
     ]
    }
   ],
   "source": [
    "# Print 0 to 5 \n",
    "for i in range(5):\n",
    "    print(i,end=\" \")"
   ]
  },
  {
   "cell_type": "code",
   "execution_count": 3,
   "id": "bdabecab",
   "metadata": {},
   "outputs": [
    {
     "name": "stdout",
     "output_type": "stream",
     "text": [
      "1 2 3 4 5 6 7 8 9 10 "
     ]
    }
   ],
   "source": [
    "for i in range(1,11):\n",
    "    print(i,end=\" \")"
   ]
  },
  {
   "cell_type": "code",
   "execution_count": 9,
   "id": "299a1056",
   "metadata": {},
   "outputs": [
    {
     "name": "stdout",
     "output_type": "stream",
     "text": [
      "10 20 30 40 50 60 70 80 90 "
     ]
    }
   ],
   "source": [
    "# print 10 20 30 .....90\n",
    "for i in range(10,100,10):\n",
    "    print(i,end=\" \")"
   ]
  },
  {
   "cell_type": "code",
   "execution_count": 10,
   "id": "13095846",
   "metadata": {
    "scrolled": true
   },
   "outputs": [
    {
     "name": "stdout",
     "output_type": "stream",
     "text": [
      "10 9 8 7 6 5 4 3 2 1 "
     ]
    }
   ],
   "source": [
    "for i in range(10,0,-1):\n",
    "    print(i,end=\" \")"
   ]
  },
  {
   "cell_type": "code",
   "execution_count": 16,
   "id": "9dd8f383",
   "metadata": {},
   "outputs": [
    {
     "name": "stdout",
     "output_type": "stream",
     "text": [
      "0 2 4 6 8 10 12 14 16 18 20 22 24 26 28 30 32 34 36 38 40 42 44 46 48 50 "
     ]
    }
   ],
   "source": [
    "for i in range(0,51):\n",
    "    if i%2==0:\n",
    "        print(i,end=\" \")"
   ]
  },
  {
   "cell_type": "code",
   "execution_count": 17,
   "id": "a896e51e",
   "metadata": {},
   "outputs": [
    {
     "name": "stdout",
     "output_type": "stream",
     "text": [
      "15 30 45 "
     ]
    }
   ],
   "source": [
    "# print multiple of 3 and 5 from 1 to 50\n",
    "for i in range(1,51):\n",
    "    if i%3==0 and i%5==0:\n",
    "        print(i,end=\" \")"
   ]
  },
  {
   "cell_type": "code",
   "execution_count": 19,
   "id": "208b8dad",
   "metadata": {},
   "outputs": [
    {
     "name": "stdout",
     "output_type": "stream",
     "text": [
      "Enter a sentance:PYTHON IS SIMPLE PROGRSMMING LANGGUAGE\n",
      "O I I E O I A U A E "
     ]
    }
   ],
   "source": [
    "# print vowels from given sentance\n",
    "vowels = \"aeiouAEIOU\"\n",
    "sentance = input(\"Enter a sentance:\")\n",
    "for i in sentance:\n",
    "    if i in vowels:\n",
    "        print(i,end=\" \")"
   ]
  },
  {
   "cell_type": "code",
   "execution_count": 30,
   "id": "e3452c08",
   "metadata": {},
   "outputs": [
    {
     "name": "stdout",
     "output_type": "stream",
     "text": [
      "Enter a number:5\n",
      "5 * 1 = 5\n",
      "5 * 2 = 10\n",
      "5 * 3 = 15\n",
      "5 * 4 = 20\n",
      "5 * 5 = 25\n",
      "5 * 6 = 30\n",
      "5 * 7 = 35\n",
      "5 * 8 = 40\n",
      "5 * 9 = 45\n",
      "5 * 10 = 50\n"
     ]
    }
   ],
   "source": [
    "# 5*1=5\n",
    "# 5*2=10\n",
    "#  ---\n",
    "#---\n",
    "# 5 *10=50\n",
    "n = int(input(\"Enter a number:\"))\n",
    "for i in range(1,11):\n",
    "    print(n ,\"*\",i,\"=\",n*i)"
   ]
  },
  {
   "cell_type": "markdown",
   "id": "63eea91f",
   "metadata": {},
   "source": [
    "# Data Structures in Python\n",
    "- List\n",
    "- Tuple\n",
    "- Dictionaries"
   ]
  },
  {
   "cell_type": "markdown",
   "id": "267618dc",
   "metadata": {},
   "source": [
    "# Data Structures:\n",
    "- store the data in particular object\n",
    "- It will makes several operations will become simple\n",
    "  - Sorting\n",
    "  - searching\n",
    "  - Store"
   ]
  },
  {
   "cell_type": "markdown",
   "id": "233d3f94",
   "metadata": {},
   "source": [
    "# List In Python\n",
    "- Its Common data structure in pyhton for storage\n",
    "- List can be enclosed with in sqaure brackets []\n",
    "- Every list item will separated with comma ,\n",
    "- List can be changed.`"
   ]
  },
  {
   "cell_type": "code",
   "execution_count": 32,
   "id": "21269922",
   "metadata": {},
   "outputs": [
    {
     "name": "stdout",
     "output_type": "stream",
     "text": [
      "[1, 2, 3, 4, 5]\n"
     ]
    }
   ],
   "source": [
    "l = [1,2,3,4,5]\n",
    "print(l)"
   ]
  },
  {
   "cell_type": "code",
   "execution_count": 35,
   "id": "50f93d94",
   "metadata": {},
   "outputs": [
    {
     "name": "stdout",
     "output_type": "stream",
     "text": [
      "1\n",
      "2\n",
      "1\n"
     ]
    }
   ],
   "source": [
    "print(l[0])\n",
    "print(l[1])\n",
    "print(l[-5])"
   ]
  },
  {
   "cell_type": "code",
   "execution_count": 37,
   "id": "dcdf4f11",
   "metadata": {},
   "outputs": [
    {
     "name": "stdout",
     "output_type": "stream",
     "text": [
      "[2, 3]\n"
     ]
    }
   ],
   "source": [
    "print(l[1:3])"
   ]
  },
  {
   "cell_type": "code",
   "execution_count": 38,
   "id": "3e519819",
   "metadata": {},
   "outputs": [
    {
     "name": "stdout",
     "output_type": "stream",
     "text": [
      "[5, 4, 3, 2, 1]\n"
     ]
    }
   ],
   "source": [
    "print(l[::-1])"
   ]
  },
  {
   "cell_type": "code",
   "execution_count": 39,
   "id": "b214ed87",
   "metadata": {},
   "outputs": [
    {
     "name": "stdout",
     "output_type": "stream",
     "text": [
      "[5, 4, 3, 2, 1]\n"
     ]
    }
   ],
   "source": [
    "print(l[-1::-1])"
   ]
  },
  {
   "cell_type": "code",
   "execution_count": 40,
   "id": "cac02b4d",
   "metadata": {},
   "outputs": [
    {
     "name": "stdout",
     "output_type": "stream",
     "text": [
      "[1, 2, 6, 4, 5]\n"
     ]
    }
   ],
   "source": [
    "l = [1,2,3,4,5]\n",
    "#update list\n",
    "l[2]= 6\n",
    "print(l)"
   ]
  },
  {
   "cell_type": "code",
   "execution_count": 41,
   "id": "60541c9e",
   "metadata": {},
   "outputs": [
    {
     "name": "stdout",
     "output_type": "stream",
     "text": [
      "[1, 2, 4, 5]\n"
     ]
    }
   ],
   "source": [
    "l = [1,2,3,4,5]\n",
    "#delete list\n",
    "del l[-3]\n",
    "print(l)"
   ]
  },
  {
   "cell_type": "code",
   "execution_count": 43,
   "id": "21f069ac",
   "metadata": {},
   "outputs": [
    {
     "name": "stdout",
     "output_type": "stream",
     "text": [
      "[1, 2, 4]\n"
     ]
    }
   ],
   "source": [
    "del l[3]\n",
    "print(l)"
   ]
  },
  {
   "cell_type": "code",
   "execution_count": null,
   "id": "4694ae46",
   "metadata": {},
   "outputs": [],
   "source": []
  }
 ],
 "metadata": {
  "kernelspec": {
   "display_name": "Python 3 (ipykernel)",
   "language": "python",
   "name": "python3"
  },
  "language_info": {
   "codemirror_mode": {
    "name": "ipython",
    "version": 3
   },
   "file_extension": ".py",
   "mimetype": "text/x-python",
   "name": "python",
   "nbconvert_exporter": "python",
   "pygments_lexer": "ipython3",
   "version": "3.9.13"
  }
 },
 "nbformat": 4,
 "nbformat_minor": 5
}
