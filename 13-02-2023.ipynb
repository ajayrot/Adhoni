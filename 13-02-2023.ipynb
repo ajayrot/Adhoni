{
 "cells": [
  {
   "cell_type": "markdown",
   "id": "463a729f",
   "metadata": {},
   "source": [
    "# Object Oriented Programming in Python\n",
    "- Python Supports Different Programming Apparoch\n",
    "- One of the popular apparoch is to solve programs by creating\n",
    "- it is object oriented programming\n",
    "\n",
    "- object has 2 charactertics\n",
    "   - Attributes\n",
    "   - Behaviour\n",
    "- eg:parrot is an object\n",
    "- name,age,color as attributes\n",
    "- singing,dancing as behhaviour"
   ]
  },
  {
   "cell_type": "code",
   "execution_count": 7,
   "id": "a0cadcf2",
   "metadata": {},
   "outputs": [],
   "source": [
    "class Parrot:\n",
    "    x = 100\n",
    "    pass"
   ]
  },
  {
   "cell_type": "code",
   "execution_count": 8,
   "id": "a5532c8d",
   "metadata": {},
   "outputs": [],
   "source": [
    "obj = Parrot()"
   ]
  },
  {
   "cell_type": "code",
   "execution_count": 9,
   "id": "635d087d",
   "metadata": {},
   "outputs": [
    {
     "name": "stdout",
     "output_type": "stream",
     "text": [
      "100\n"
     ]
    }
   ],
   "source": [
    "print(obj.x) # object name obj and print variable x"
   ]
  },
  {
   "cell_type": "markdown",
   "id": "146c2adc",
   "metadata": {},
   "source": [
    "# Object:\n",
    "- when class is defined,only the dscription for objects defined"
   ]
  },
  {
   "cell_type": "code",
   "execution_count": 12,
   "id": "dad73142",
   "metadata": {},
   "outputs": [
    {
     "name": "stdout",
     "output_type": "stream",
     "text": [
      "Crreating a method in class cls\n",
      "None\n"
     ]
    }
   ],
   "source": [
    "# Craete a method in class\n",
    "class Cls:\n",
    "    def test(self):\n",
    "        print(\"Crreating a method in class cls\")\n",
    "obj1 =Cls()\n",
    "print(obj1.test())"
   ]
  },
  {
   "cell_type": "code",
   "execution_count": 17,
   "id": "e7954d42",
   "metadata": {},
   "outputs": [
    {
     "name": "stdout",
     "output_type": "stream",
     "text": [
      "Ajay\n",
      "None\n"
     ]
    }
   ],
   "source": [
    "class Cls1:\n",
    "    def test1(self,name):\n",
    "        print(name)\n",
    "obj2=Cls1()\n",
    "print(obj2.test1(\"Ajay\"))`"
   ]
  },
  {
   "cell_type": "code",
   "execution_count": 18,
   "id": "c7a18cf1",
   "metadata": {},
   "outputs": [
    {
     "name": "stdout",
     "output_type": "stream",
     "text": [
      "6\n"
     ]
    }
   ],
   "source": [
    "class Cls2:\n",
    "    def add(self,a,b,c):\n",
    "        return a+b+c\n",
    "obj3 = Cls2()\n",
    "print(obj3.add(1,2,3))"
   ]
  },
  {
   "cell_type": "markdown",
   "id": "15b98499",
   "metadata": {},
   "source": [
    "# Constructor - init function()\n",
    "- All classes have a function class init function\n",
    "- use init() to assign values to object properties"
   ]
  },
  {
   "cell_type": "code",
   "execution_count": 1,
   "id": "f4757d7c",
   "metadata": {},
   "outputs": [
    {
     "name": "stdout",
     "output_type": "stream",
     "text": [
      "Ajay\n",
      "10\n"
     ]
    }
   ],
   "source": [
    " # init is called automatically everytime the class is being used to create a new obj\n",
    "class Person:\n",
    "    def __init__(self,name,age):\n",
    "        self.name=name\n",
    "        self.age=age\n",
    "        \n",
    "a = Person(\"Ajay\",10)\n",
    "print(a.name)\n",
    "print(a.age)"
   ]
  },
  {
   "cell_type": "code",
   "execution_count": 26,
   "id": "1c561287",
   "metadata": {},
   "outputs": [
    {
     "name": "stdout",
     "output_type": "stream",
     "text": [
      "Ajay\n",
      "10\n",
      "my name is Ajay\n",
      "None\n"
     ]
    }
   ],
   "source": [
    "# Creating method \n",
    "class Person:\n",
    "    def __init__(self,name,age):\n",
    "        self.name=name\n",
    "        self.age=age\n",
    "    def myname(self):\n",
    "        print(\"my name is Ajay\")\n",
    "        \n",
    "a = Person(\"Ajay\",10)\n",
    "\n",
    "print(a.name)\n",
    "print(a.age)\n",
    "print(a.myname())"
   ]
  },
  {
   "cell_type": "code",
   "execution_count": 28,
   "id": "cf15a349",
   "metadata": {},
   "outputs": [
    {
     "name": "stdout",
     "output_type": "stream",
     "text": [
      "Ram\n",
      "15\n",
      "my name is Ajay\n",
      "None\n"
     ]
    }
   ],
   "source": [
    "# Modify\n",
    "class Person:\n",
    "    def __init__(self,name,age):\n",
    "        self.name=name\n",
    "        self.age=age\n",
    "    def myname(self):\n",
    "        print(\"my name is Ajay\")\n",
    "a = Person(\"Ajay\",10)\n",
    "a.name=\"Ram\"\n",
    "a.age=15\n",
    "print(a.name)\n",
    "print(a.age)\n",
    "print(a.myname())"
   ]
  },
  {
   "cell_type": "code",
   "execution_count": 31,
   "id": "c08be8ae",
   "metadata": {},
   "outputs": [
    {
     "ename": "AttributeError",
     "evalue": "'Person' object has no attribute 'name'",
     "output_type": "error",
     "traceback": [
      "\u001b[1;31m---------------------------------------------------------------------------\u001b[0m",
      "\u001b[1;31mAttributeError\u001b[0m                            Traceback (most recent call last)",
      "\u001b[1;32m~\\AppData\\Local\\Temp\\ipykernel_6048\\1110263044.py\u001b[0m in \u001b[0;36m<module>\u001b[1;34m\u001b[0m\n\u001b[0;32m      9\u001b[0m \u001b[1;32mdel\u001b[0m \u001b[0ma\u001b[0m\u001b[1;33m.\u001b[0m\u001b[0mname\u001b[0m\u001b[1;33m\u001b[0m\u001b[1;33m\u001b[0m\u001b[0m\n\u001b[0;32m     10\u001b[0m \u001b[1;33m\u001b[0m\u001b[0m\n\u001b[1;32m---> 11\u001b[1;33m \u001b[0mprint\u001b[0m\u001b[1;33m(\u001b[0m\u001b[0ma\u001b[0m\u001b[1;33m.\u001b[0m\u001b[0mname\u001b[0m\u001b[1;33m)\u001b[0m\u001b[1;33m\u001b[0m\u001b[1;33m\u001b[0m\u001b[0m\n\u001b[0m\u001b[0;32m     12\u001b[0m \u001b[0mprint\u001b[0m\u001b[1;33m(\u001b[0m\u001b[0ma\u001b[0m\u001b[1;33m.\u001b[0m\u001b[0mage\u001b[0m\u001b[1;33m)\u001b[0m\u001b[1;33m\u001b[0m\u001b[1;33m\u001b[0m\u001b[0m\n\u001b[0;32m     13\u001b[0m \u001b[0mprint\u001b[0m\u001b[1;33m(\u001b[0m\u001b[0ma\u001b[0m\u001b[1;33m.\u001b[0m\u001b[0mmyname\u001b[0m\u001b[1;33m(\u001b[0m\u001b[1;33m)\u001b[0m\u001b[1;33m)\u001b[0m\u001b[1;33m\u001b[0m\u001b[1;33m\u001b[0m\u001b[0m\n",
      "\u001b[1;31mAttributeError\u001b[0m: 'Person' object has no attribute 'name'"
     ]
    }
   ],
   "source": [
    "# Delete\n",
    "class Person:\n",
    "    def __init__(self,name,age):\n",
    "        self.name=name\n",
    "        self.age=age\n",
    "    def myname(self):\n",
    "        print(\"my name is Ajay\")\n",
    "a = Person(\"Ajay\",10)\n",
    "del a.name\n",
    "\n",
    "print(a.name)\n",
    "print(a.age)\n",
    "print(a.myname())"
   ]
  },
  {
   "cell_type": "markdown",
   "id": "5207efcd",
   "metadata": {},
   "source": [
    "# Inheritance:\n",
    "- It is way of creating a new class for using details of an existing class without modifying it."
   ]
  },
  {
   "cell_type": "code",
   "execution_count": 7,
   "id": "41343dc3",
   "metadata": {},
   "outputs": [
    {
     "name": "stdout",
     "output_type": "stream",
     "text": [
      "Parrot is ready\n",
      "Run faster\n",
      "None\n",
      "Method\n",
      "None\n",
      "Swim faster\n",
      "None\n"
     ]
    }
   ],
   "source": [
    "class Bird:# parent class\n",
    "    def __init__(self):\n",
    "        print(\"Bird is ready\")\n",
    "    def method1(self):\n",
    "        print(\"Method1\")\n",
    "    def run(self):\n",
    "        print(\"Run faster\")\n",
    "\n",
    "class Parrot(Bird):# child class\n",
    "    def __init__(self):\n",
    "        print(\"Parrot is ready\")\n",
    "    def method1(self):\n",
    "        print(\"Method\")\n",
    "    def swim(self):\n",
    "        print(\"Swim faster\")\n",
    "a = Parrot()\n",
    "print(a.run())\n",
    "print(a.method1())\n",
    "print(a.swim())\n"
   ]
  },
  {
   "cell_type": "code",
   "execution_count": null,
   "id": "20ad9d82",
   "metadata": {},
   "outputs": [],
   "source": []
  }
 ],
 "metadata": {
  "kernelspec": {
   "display_name": "Python 3 (ipykernel)",
   "language": "python",
   "name": "python3"
  },
  "language_info": {
   "codemirror_mode": {
    "name": "ipython",
    "version": 3
   },
   "file_extension": ".py",
   "mimetype": "text/x-python",
   "name": "python",
   "nbconvert_exporter": "python",
   "pygments_lexer": "ipython3",
   "version": "3.9.13"
  }
 },
 "nbformat": 4,
 "nbformat_minor": 5
}
