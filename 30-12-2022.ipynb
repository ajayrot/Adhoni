{
 "cells": [
  {
   "cell_type": "code",
   "execution_count": 1,
   "id": "68935799",
   "metadata": {},
   "outputs": [
    {
     "name": "stdout",
     "output_type": "stream",
     "text": [
      "5\n",
      "5\n",
      "6\n",
      "6 is large number\n"
     ]
    }
   ],
   "source": [
    "#Give 3 input \n",
    "# print large number \n",
    "# x1>x2 and x1>x3\n",
    "# x2>x1 and x2>x3\n",
    "# x3>x1 and x3>x2\n",
    "x1 =int(input())\n",
    "x2 =int(input())\n",
    "x3 =int(input())\n",
    "if x1>x2 and x1>x3:\n",
    "    print( x1, \"is large number\")\n",
    "elif x2>x1 and x2 >x3:\n",
    "    print(x2,\"is large number\")\n",
    "else:\n",
    "    print(x3,\"is large number\")"
   ]
  },
  {
   "cell_type": "markdown",
   "id": "ee160dc1",
   "metadata": {},
   "source": [
    "# Looping Statements\n",
    "- while loop\n",
    "- for loop"
   ]
  },
  {
   "cell_type": "markdown",
   "id": "8ea4d9c7",
   "metadata": {},
   "source": [
    "# while Loop\n",
    "**Syntax**\n",
    "- while Boolean_Condition:\n",
    "      - Statement  \n",
    "      - Increment\\Decrement"
   ]
  },
  {
   "cell_type": "code",
   "execution_count": 3,
   "id": "310df368",
   "metadata": {},
   "outputs": [
    {
     "name": "stdout",
     "output_type": "stream",
     "text": [
      "Python\n",
      "Python\n",
      "Python\n",
      "Python\n",
      "Python\n"
     ]
    }
   ],
   "source": [
    "#print \"Python\" 5 times\n",
    "print(\"Python\")\n",
    "print(\"Python\")\n",
    "print(\"Python\")\n",
    "print(\"Python\")\n",
    "print(\"Python\")"
   ]
  },
  {
   "cell_type": "code",
   "execution_count": 5,
   "id": "1d98393e",
   "metadata": {},
   "outputs": [
    {
     "name": "stdout",
     "output_type": "stream",
     "text": [
      "Python\n",
      "Python\n",
      "Python\n",
      "Python\n",
      "Python\n"
     ]
    }
   ],
   "source": [
    "i = 0\n",
    "while i <5:\n",
    "    print(\"Python\")\n",
    "    i =i+1"
   ]
  },
  {
   "cell_type": "code",
   "execution_count": 6,
   "id": "0a987c58",
   "metadata": {},
   "outputs": [
    {
     "name": "stdout",
     "output_type": "stream",
     "text": [
      "Python\n",
      "Python\n",
      "Python\n",
      "Python\n",
      "Python\n"
     ]
    }
   ],
   "source": [
    "i = 1\n",
    "while i <=5:\n",
    "    print(\"Python\")\n",
    "    i =i+1"
   ]
  },
  {
   "cell_type": "code",
   "execution_count": 9,
   "id": "c8cea14f",
   "metadata": {},
   "outputs": [
    {
     "name": "stdout",
     "output_type": "stream",
     "text": [
      "Enter a number6\n",
      "1 2 3 6 "
     ]
    }
   ],
   "source": [
    "# print the output as factors of the given number\n",
    "# 6 - 1 2 3 6\n",
    "# 12 - 1 2 3 4 6 12\n",
    "n = int(input(\"Enter a number\"))\n",
    "i = 1\n",
    "while i <= n:\n",
    "    if n % i ==0:\n",
    "        print(i,end=' ')\n",
    "    i =i+1"
   ]
  },
  {
   "cell_type": "code",
   "execution_count": 11,
   "id": "bc021f9b",
   "metadata": {},
   "outputs": [
    {
     "name": "stdout",
     "output_type": "stream",
     "text": [
      "123\n",
      "3 2 1 "
     ]
    }
   ],
   "source": [
    "#input = 123\n",
    "#output = 321\n",
    "n=int(input())\n",
    "while n !=0:\n",
    "    print(n%10,end=' ')\n",
    "    n = n//10"
   ]
  },
  {
   "cell_type": "code",
   "execution_count": null,
   "id": "cef1a45e",
   "metadata": {},
   "outputs": [],
   "source": [
    "#input =10\n",
    "# output = 1 2 3 4 5 ---10\n",
    "n = 10\n",
    "i = 1\n",
    "while i<=n:\n",
    "    print(i,end= ' ')\n",
    "    i = i+1"
   ]
  },
  {
   "cell_type": "code",
   "execution_count": null,
   "id": "ce03f0a9",
   "metadata": {},
   "outputs": [],
   "source": [
    "#input = 10\n",
    "#output = 10 9 8 7 6 5 4 3 2 1\n",
    "n = 10\n",
    "i =1\n",
    "while n>=i:\n",
    "    print(n,end=' ')\n",
    "    n = n- 1"
   ]
  }
 ],
 "metadata": {
  "kernelspec": {
   "display_name": "Python 3 (ipykernel)",
   "language": "python",
   "name": "python3"
  },
  "language_info": {
   "codemirror_mode": {
    "name": "ipython",
    "version": 3
   },
   "file_extension": ".py",
   "mimetype": "text/x-python",
   "name": "python",
   "nbconvert_exporter": "python",
   "pygments_lexer": "ipython3",
   "version": "3.9.13"
  }
 },
 "nbformat": 4,
 "nbformat_minor": 5
}
